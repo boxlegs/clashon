{
 "cells": [
  {
   "cell_type": "code",
   "execution_count": 21,
   "id": "729a07f7",
   "metadata": {},
   "outputs": [
    {
     "name": "stdout",
     "output_type": "stream",
     "text": [
      "Requirement already satisfied: requests in ./.venv/lib/python3.11/site-packages (2.32.5)\n",
      "Requirement already satisfied: python-dotenv in ./.venv/lib/python3.11/site-packages (1.1.1)\n",
      "Requirement already satisfied: charset_normalizer<4,>=2 in ./.venv/lib/python3.11/site-packages (from requests) (3.4.3)\n",
      "Requirement already satisfied: idna<4,>=2.5 in ./.venv/lib/python3.11/site-packages (from requests) (3.10)\n",
      "Requirement already satisfied: urllib3<3,>=1.21.1 in ./.venv/lib/python3.11/site-packages (from requests) (2.5.0)\n",
      "Requirement already satisfied: certifi>=2017.4.17 in ./.venv/lib/python3.11/site-packages (from requests) (2025.8.3)\n",
      "Note: you may need to restart the kernel to use updated packages.\n"
     ]
    }
   ],
   "source": [
    "%pip install requests python-dotenv"
   ]
  },
  {
   "cell_type": "code",
   "execution_count": 22,
   "id": "9158a71d",
   "metadata": {},
   "outputs": [],
   "source": [
    "import requests\n",
    "import urllib\n",
    "import pandas as pd\n",
    "from dotenv import load_dotenv\n",
    "import logging\n",
    "import os\n",
    "\n",
    "load_dotenv()\n",
    "API_TOKEN = os.getenv('API_TOKEN')\n",
    "CLAN_NAME = os.getenv('CLAN_NAME')"
   ]
  },
  {
   "cell_type": "code",
   "execution_count": 23,
   "id": "c8525edb",
   "metadata": {},
   "outputs": [],
   "source": [
    "logging.basicConfig(level=logging.INFO, format='%(levelname)s:%(message)s')"
   ]
  },
  {
   "cell_type": "code",
   "execution_count": 24,
   "id": "9f34e21a",
   "metadata": {},
   "outputs": [
    {
     "name": "stderr",
     "output_type": "stream",
     "text": [
      "INFO:Found 10 members in clan S.J.G.R\n"
     ]
    },
    {
     "name": "stdout",
     "output_type": "stream",
     "text": [
      "#V8LVP0028\n"
     ]
    }
   ],
   "source": [
    "headers = { \"Authorization\": f'Bearer {API_TOKEN}'}\n",
    "\n",
    "def getclan():\n",
    "    return requests.get(f'https://api.clashroyale.com/v1/clans?name={CLAN_NAME}', headers = headers).json()[\"items\"][0]\n",
    "\n",
    "def getbattlelog(player_tag):\n",
    "    player_tag = urllib.parse.quote(player_tag, safe='')\n",
    "    data = requests.get(f'https://api.clashroyale.com/v1/players/{player_tag}/battlelog', headers = headers).json()\n",
    "\n",
    "    team = data[\"team\"]\n",
    "    opponent = data[\"opponent\"]\n",
    "    \n",
    "    return team,opponent,data\n",
    "\n",
    "def getmembers(clan_tag):\n",
    "    clan_tag = urllib.parse.quote(clan_tag, safe='')\n",
    "    playerlist = requests.get(f'https://api.clashroyale.com/v1/clans/{clan_tag}/members', headers = headers).json()\n",
    "    \n",
    "    logging.info(f\"Found {len(playerlist['items'])} members in clan {CLAN_NAME}\")\n",
    "    \n",
    "    player_data = []\n",
    "\n",
    "    for player in playerlist['items']:\n",
    "        player_tag = urllib.parse.quote(player['tag'], safe='')\n",
    "        player_data.append(requests.get(f'https://api.clashroyale.com/v1/players/{player_tag}', headers = headers).json())\n",
    "        if player[\"name\"] == \"dogbag\":\n",
    "            print(player[\"tag\"])\n",
    "\n",
    "    return player_data\n",
    "\n",
    "        \n",
    "clan = getclan()\n",
    "members=getmembers(clan[\"tag\"])\n",
    "df = pd.DataFrame(members)\n",
    "\n"
   ]
  },
  {
   "cell_type": "code",
   "execution_count": 25,
   "id": "95b65da2",
   "metadata": {},
   "outputs": [
    {
     "data": {
      "text/plain": [
       "Index(['tag', 'name', 'expLevel', 'trophies', 'bestTrophies', 'wins', 'losses',\n",
       "       'battleCount', 'threeCrownWins', 'challengeCardsWon',\n",
       "       'challengeMaxWins', 'tournamentCardsWon', 'tournamentBattleCount',\n",
       "       'role', 'donations', 'donationsReceived', 'totalDonations',\n",
       "       'warDayWins', 'clanCardsCollected', 'clan', 'arena', 'leagueStatistics',\n",
       "       'badges', 'achievements', 'cards', 'supportCards', 'currentDeck',\n",
       "       'currentDeckSupportCards', 'currentFavouriteCard', 'starPoints',\n",
       "       'expPoints', 'legacyTrophyRoadHighScore',\n",
       "       'currentPathOfLegendSeasonResult', 'lastPathOfLegendSeasonResult',\n",
       "       'bestPathOfLegendSeasonResult', 'progress', 'totalExpPoints'],\n",
       "      dtype='object')"
      ]
     },
     "execution_count": 25,
     "metadata": {},
     "output_type": "execute_result"
    }
   ],
   "source": [
    "df.columns"
   ]
  },
  {
   "cell_type": "code",
   "execution_count": 27,
   "id": "ac0a1f52",
   "metadata": {},
   "outputs": [
    {
     "ename": "TypeError",
     "evalue": "list indices must be integers or slices, not str",
     "output_type": "error",
     "traceback": [
      "\u001b[31m---------------------------------------------------------------------------\u001b[39m",
      "\u001b[31mTypeError\u001b[39m                                 Traceback (most recent call last)",
      "\u001b[36mCell\u001b[39m\u001b[36m \u001b[39m\u001b[32mIn[27]\u001b[39m\u001b[32m, line 1\u001b[39m\n\u001b[32m----> \u001b[39m\u001b[32m1\u001b[39m data, team, opponent = getbattlelog(\u001b[43mmembers\u001b[49m\u001b[43m[\u001b[49m\u001b[33;43m\"\u001b[39;49m\u001b[33;43mitems\u001b[39;49m\u001b[33;43m\"\u001b[39;49m\u001b[43m]\u001b[49m[\u001b[32m0\u001b[39m][\u001b[33m\"\u001b[39m\u001b[33mtag\u001b[39m\u001b[33m\"\u001b[39m])\n\u001b[32m      3\u001b[39m pd.DataFrame(team)\n",
      "\u001b[31mTypeError\u001b[39m: list indices must be integers or slices, not str"
     ]
    }
   ],
   "source": [
    "data, team, opponent = getbattlelog(members[\"items\"][0][\"tag\"])\n",
    "\n",
    "pd.DataFrame(team)"
   ]
  }
 ],
 "metadata": {
  "kernelspec": {
   "display_name": ".venv",
   "language": "python",
   "name": "python3"
  },
  "language_info": {
   "codemirror_mode": {
    "name": "ipython",
    "version": 3
   },
   "file_extension": ".py",
   "mimetype": "text/x-python",
   "name": "python",
   "nbconvert_exporter": "python",
   "pygments_lexer": "ipython3",
   "version": "3.11.2"
  }
 },
 "nbformat": 4,
 "nbformat_minor": 5
}
